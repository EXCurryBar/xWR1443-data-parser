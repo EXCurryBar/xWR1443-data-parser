{
 "cells": [
  {
   "cell_type": "code",
   "execution_count": null,
   "id": "initial_id",
   "metadata": {
    "collapsed": true,
    "is_executing": true
   },
   "outputs": [],
   "source": [
    "from keras.models import Sequential\n",
    "from keras.layers import LSTM, Dense, Conv2D, MaxPooling2D, Flatten"
   ]
  },
  {
   "cell_type": "code",
   "outputs": [],
   "source": [
    "class CNNLSTMModel:\n",
    "    def __init__(self, input_shape, lstm_units=50):\n",
    "        self.input_shape = input_shape\n",
    "        self.model = self.build_model(lstm_units)\n",
    "\n",
    "    def build_model(self, lstm_units):\n",
    "        model = Sequential()\n",
    "\n",
    "        # CNN layers\n",
    "        model.add(Conv2D(32, (3, 3), activation='relu', input_shape=self.input_shape))\n",
    "        model.add(MaxPooling2D(pool_size=(2, 2)))\n",
    "        model.add(Flatten())\n",
    "\n",
    "        # LSTM layer\n",
    "        model.add(LSTM(lstm_units, return_sequences=True))\n",
    "\n",
    "        # Output layer\n",
    "        model.add(Dense(1, activation='sigmoid'))  # Adjust the output layer based on your classification task\n",
    "\n",
    "        model.compile(optimizer='adam', loss='binary_crossentropy', metrics=['accuracy'])\n",
    "        return model\n",
    "\n",
    "    def summary(self):\n",
    "        self.model.summary()\n",
    "\n",
    "    def train(self, x_train, y_train, epochs=10, batch_size=32, validation_data=None):\n",
    "        self.model.fit(x_train, y_train, epochs=epochs, batch_size=batch_size, validation_data=validation_data)\n",
    "\n",
    "    def evaluate(self, x_test, y_test):\n",
    "        return self.model.evaluate(x_test, y_test)"
   ],
   "metadata": {
    "collapsed": false
   },
   "id": "3be05947a0de8b04"
  },
  {
   "cell_type": "code",
   "outputs": [],
   "source": [
    "X_train, y_train, X_test, y_test =  [[],[],[],[]]"
   ],
   "metadata": {
    "collapsed": false
   },
   "id": "1dd130d6bf87d524"
  },
  {
   "cell_type": "code",
   "outputs": [],
   "source": [
    "input_shape = (26, 26, 1)\n",
    "cnn_lstm_model = CNNLSTMModel(input_shape)\n",
    "cnn_lstm_model.summary()\n",
    "\n",
    "cnn_lstm_model.train(X_train, y_train, epochs=10, batch_size=32, validation_data=(X_test, y_test))\n",
    "accuracy = cnn_lstm_model.evaluate(X_test, y_test)[1]\n",
    "print(f'Test Accuracy: {accuracy}')"
   ],
   "metadata": {
    "collapsed": false
   },
   "id": "8b60278888705fcc"
  }
 ],
 "metadata": {
  "kernelspec": {
   "display_name": "Python 3",
   "language": "python",
   "name": "python3"
  },
  "language_info": {
   "codemirror_mode": {
    "name": "ipython",
    "version": 2
   },
   "file_extension": ".py",
   "mimetype": "text/x-python",
   "name": "python",
   "nbconvert_exporter": "python",
   "pygments_lexer": "ipython2",
   "version": "2.7.6"
  }
 },
 "nbformat": 4,
 "nbformat_minor": 5
}
